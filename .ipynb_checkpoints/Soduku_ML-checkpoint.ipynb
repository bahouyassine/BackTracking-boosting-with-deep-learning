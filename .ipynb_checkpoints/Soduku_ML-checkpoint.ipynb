{
 "cells": [
  {
   "cell_type": "code",
   "execution_count": null,
   "metadata": {},
   "outputs": [],
   "source": [
    "import pandas as pd\n",
    "import numpy as np\n",
    "import tensorflow as tf\n",
    "from sklearn.model_selection import train_test_split\n",
    "\n",
    "# Load the dataset\n",
    "data = pd.read_csv('/home/yassine/Desktop/Sudoku/data/sudoku_dataset.csv')  # Replace with your dataset path\n",
    "\n",
    "# Function to convert puzzle string to 9x9 grid\n",
    "def string_to_grid(puzzle_string):\n",
    "    return np.array([int(char) for char in puzzle_string]).reshape((9, 9, 1))\n",
    "\n",
    "# Preprocess the data\n",
    "X = np.array([string_to_grid(puzzle) for puzzle in data['unsolved']])\n",
    "y = np.array([string_to_grid(puzzle) for puzzle in data['solved']])\n",
    "\n",
    "# Split the data into training and test sets\n",
    "X_train, X_test, y_train, y_test = train_test_split(X, y, test_size=0.2, random_state=42)\n",
    "\n",
    "# Create the model\n",
    "model = tf.keras.models.Sequential([\n",
    "    tf.keras.layers.Conv2D(64, (3, 3), activation='relu', input_shape=(9, 9, 1)),\n",
    "    tf.keras.layers.Conv2D(64, (3, 3), activation='relu'),\n",
    "    tf.keras.layers.Flatten(),\n",
    "    tf.keras.layers.Dense(81 * 9),  # 81 cells, each with 9 possibilities\n",
    "    tf.keras.layers.Reshape((9, 9, 9)),\n",
    "    tf.keras.layers.Activation('softmax')\n",
    "])\n",
    "\n",
    "# Compile the model\n",
    "model.compile(optimizer='adam', loss='sparse_categorical_crossentropy', metrics=['accuracy'])\n",
    "\n",
    "# Reshape y for categorical cross-entropy\n",
    "y_train_reshaped = y_train.reshape(-1, 1)\n",
    "y_test_reshaped = y_test.reshape(-1, 1)\n",
    "\n",
    "# Train the model\n",
    "model.fit(X_train, y_train_reshaped, validation_data=(X_test, y_test_reshaped), epochs=10)\n",
    "\n",
    "# Save the model\n",
    "model.save('sudoku_model.h5')\n"
   ]
  },
  {
   "cell_type": "code",
   "execution_count": null,
   "metadata": {},
   "outputs": [],
   "source": []
  }
 ],
 "metadata": {
  "language_info": {
   "name": "python"
  }
 },
 "nbformat": 4,
 "nbformat_minor": 2
}
